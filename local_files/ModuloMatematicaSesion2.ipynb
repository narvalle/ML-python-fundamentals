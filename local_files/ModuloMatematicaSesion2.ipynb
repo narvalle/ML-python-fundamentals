{
  "nbformat": 4,
  "nbformat_minor": 0,
  "metadata": {
    "colab": {
      "name": "ModuloMatematicaSesion2.ipynb",
      "provenance": [],
      "collapsed_sections": []
    },
    "kernelspec": {
      "name": "python3",
      "display_name": "Python 3"
    }
  },
  "cells": [
    {
      "cell_type": "code",
      "metadata": {
        "colab": {
          "base_uri": "https://localhost:8080/"
        },
        "id": "LeusWojdDemD",
        "outputId": "550b77c9-9fca-4c2a-de3c-90588102d273"
      },
      "source": [
        "# Probabilidad\n",
        "'''  La probabilidad de que un suceso A pase es\n",
        "      P(A) =  No. casos favorables / No. casos posibles\n",
        "\n",
        "Espacio muestral: Todos los casos posibles '''\n",
        "\n",
        "# Ejemplo\n",
        "''' Si tiramos un dado cual es la probabilidad de que caiga 2 '''\n",
        "# Espacio muestral\n",
        "E = [1,2,3,4,5,6]\n",
        "# Suceso ---> sacar un 2, entonces P(A) = 1/E\n",
        "PA = 1 / len(E) \n",
        "# El resultado tiene que ser un numero entre 0 y 1\n",
        "print(PA)\n",
        "print(f'{PA*100}%')"
      ],
      "execution_count": null,
      "outputs": [
        {
          "output_type": "stream",
          "text": [
            "0.16666666666666666\n",
            "16.666666666666664%\n"
          ],
          "name": "stdout"
        }
      ]
    },
    {
      "cell_type": "code",
      "metadata": {
        "colab": {
          "base_uri": "https://localhost:8080/"
        },
        "id": "CLG29uYLDwPv",
        "outputId": "5a3d5e7a-96fa-4437-9160-2dd858f07e4c"
      },
      "source": [
        "# Experimento 2\n",
        "''' Tiramos 2 monedas'''\n",
        "# Nuestro espacio muestral tenemos los casos posibles de las monedas, moneda1-moneda2\n",
        "E = ['cara-cara','cara-corona','corona-cara','corona-corona']\n",
        "''' Cual es la posibilidad de que salga al menos 1 cara?'''\n",
        "# casos posibles 'cara-cara,cara-corona-corona-cara\n",
        "PA = 3/len(E)\n",
        "print(PA)\n",
        "# Lo multiplicamos por 100 para verlo en porcentaje\n",
        "print(f'{PA*100}%')"
      ],
      "execution_count": null,
      "outputs": [
        {
          "output_type": "stream",
          "text": [
            "0.75\n",
            "75.0%\n"
          ],
          "name": "stdout"
        }
      ]
    },
    {
      "cell_type": "markdown",
      "metadata": {
        "id": "cMsZA5bEr5cG"
      },
      "source": [
        "# **Axiomas y propiedades**\n"
      ]
    },
    {
      "cell_type": "markdown",
      "metadata": {
        "id": "FwYqIfHCqnqz"
      },
      "source": [
        "# *Axiomas*\n",
        "\n",
        "*   La probabilidad es positiva y menor o igual que 1.\n",
        "\n",
        "    0 ≤ p(A) ≤ 1\n",
        "\n",
        "*   La probabilidad del suceso seguro es 1.\n",
        "\n",
        "    P(E) = 1\n",
        "\n",
        "*   Si A y B son excluyentes, es decir A ∩ B = ∅ entonces:\n",
        "\n",
        "    P(A U B) = P(A) + P(B)\n",
        "\n",
        "\n"
      ]
    },
    {
      "cell_type": "markdown",
      "metadata": {
        "id": "355FMvP4sENY"
      },
      "source": [
        "# *Propiedades* \n",
        "\n",
        "\n",
        "*   La suma de la probabilidad de un suceso y su contrario es igual a 1, entonces la probabilidad de un suceso contrario es:\n",
        "    \n",
        "    P(Ac) = 1 - P(A)\n",
        "*   La probabilidad de un suceso imposible es cero.\n",
        "\n",
        "    P(∅) = 0\n",
        "*   La probabilidad de la union de dos sucesos A o B es la suma de sus probabilidades menos la probabilidad de su interseccion. \n",
        "\n",
        "    P(A U B) = P(A) + P(B) - P(A ∩ B)\n",
        "*   La probabilidad de la interseccion de A y B es la probabilidad de A por la probabilidad de B. Solo cuando los sucesos son independientes.\n",
        "\n",
        "    P(A ∩ B) = P(A) * P(B)\n",
        "*   Si la probabilidad de un suceso A cambia cuando se sabe si un suceso B ha ocurrido se llama *probabilidad condicionada.*\n",
        "\n",
        "    P(A/B) = P(A ∩ B) / P(B)\n",
        "\n"
      ]
    },
    {
      "cell_type": "code",
      "metadata": {
        "colab": {
          "base_uri": "https://localhost:8080/"
        },
        "id": "Pp53EzTrkeYU",
        "outputId": "7c736ee3-a63f-4824-c657-448d94fa76e6"
      },
      "source": [
        "# Ejemplo 3\n",
        "''' Cual es la probabilidad que al tirar un dado salga un numero par'''\n",
        "E = [1,2,3,4,5,6] # todos los resultados posibles al tirar un dado\n",
        "A = [2,4,6] # resultados favorables, o sea numeros pares\n",
        "B = [1,3,5] # resultados impartes\n",
        "PA = len(A) / len(E)\n",
        "print(f'Probabilidad de que un numero sea par {PA*100}%')\n",
        "# Cual es la probabilidad de que NO sea un numero par\n",
        "# El complemento de P(A) seria P(Ac) = 1 - P(A)\n",
        "PAc = 1 - PA\n",
        "print(f'Probabilidad de que un numero sea impar {PAc*100}%')"
      ],
      "execution_count": null,
      "outputs": [
        {
          "output_type": "stream",
          "text": [
            "Probabilidad de que un numero sea par 50.0%\n",
            "Probabilidad de que un numero sea impar 50.0%\n"
          ],
          "name": "stdout"
        }
      ]
    },
    {
      "cell_type": "markdown",
      "metadata": {
        "id": "ZLugTrfszQr9"
      },
      "source": [
        "# Probabilidad condicionada\n"
      ]
    },
    {
      "cell_type": "code",
      "metadata": {
        "colab": {
          "base_uri": "https://localhost:8080/"
        },
        "id": "iRozQuxGyvhm",
        "outputId": "96e76b3d-37f2-4786-cde3-fefa78b64d4e"
      },
      "source": [
        "# Ejemplo 4\n",
        "''' Cual es la probabilidad de obtener un 3 al tirar un dado si sabemos que\n",
        "ha salido un numero impar'''\n",
        "# A = probabilidad de obtener un 3\n",
        "# B = Probabilidad de que sea impar\n",
        "E = [1,2,3,4,5,6] # posibles resultados al tirar un dado\n",
        "A = [3] # resultados favorables de que sea 3, es uno nada mas\n",
        "\n",
        "# La probabilidad de obtener un 3 al tirar un dado es P(A) \n",
        "PA = len(A)/len(E)\n",
        "print(f'Probabilidad de obtener un 3 es {PA*100}%')\n",
        "\n",
        "# La probabilidad de obtener un impar\n",
        "B = [1,3,5] # resultados favorables de que sea impar, son 3\n",
        "# La probabilidad de obtener un numero impar al tirar un dado es P(B)\n",
        "PB = len(B)/len(E)\n",
        "print(f'Probabilidad de obtener un numero impar es {PB*100}%')\n",
        "\n",
        "# La formula de la probabilidad condicionada es P(A/B) = P(A ∩ B) / P(B)\n",
        "# P(3/impar) = P(3 y impar) / P(impar)\n",
        "PAyB = 1/len(E) \n",
        "\n",
        "P_AB = PAyB / PB\n",
        "print(f'La probabilidad de obtener un 3 sabiendo que salio un impar es {P_AB*100}')"
      ],
      "execution_count": null,
      "outputs": [
        {
          "output_type": "stream",
          "text": [
            "Probabilidad de obtener un 3 es 16.666666666666664%\n",
            "Probabilidad de obtener un numero impar es 50.0%\n",
            "La probabilidad de obtener un 3 sabiendo que salio un impar es 33.33333333333333\n"
          ],
          "name": "stdout"
        }
      ]
    },
    {
      "cell_type": "markdown",
      "metadata": {
        "id": "1ztgwB7-K39h"
      },
      "source": [
        "# Moda, media y mediana.\n",
        "\n",
        "**Moda:** Es el valor que mas se repite o que se repite varias veces en una lista numerica. \n",
        "\n",
        "**Mediana:** Representa el dato central en un conjunto de numeros ordenados. \n",
        "\n",
        "**Media:** Generalmente se le conoce como el promedio de un grupo de numeros. "
      ]
    },
    {
      "cell_type": "code",
      "metadata": {
        "colab": {
          "base_uri": "https://localhost:8080/"
        },
        "id": "icapiLEx0rfu",
        "outputId": "c5c7bb54-f257-45f5-f2c3-d8acdb424be4"
      },
      "source": [
        "# Moda, mediana y media\n",
        "import pandas as pd\n",
        "import numpy as np\n",
        "# del modulo numpy importamos random para utilizar variables aleatorias, utilizamos seed(0) para obtener\n",
        "# siempre los mismos resultados aleatorios\n",
        "np.random.seed(0)\n",
        "# creamos nuestra data con valores del 1 al 10 (Ponemos 11 porque es excluyente) y generamos 100 valores\n",
        "raw_data = np.random.randint(1,11,100)\n",
        "# ordenamos la data, por defecto la ordena de menor a mayor\n",
        "raw_data.sort()\n",
        "# mostramos la data\n",
        "print(raw_data)"
      ],
      "execution_count": null,
      "outputs": [
        {
          "output_type": "stream",
          "text": [
            "[ 1  1  1  1  1  1  1  1  1  1  1  2  2  2  2  2  2  2  2  2  3  3  3  3\n",
            "  3  3  3  4  4  4  4  4  4  4  4  4  4  4  4  4  4  4  5  5  5  5  5  5\n",
            "  5  5  5  5  5  5  5  5  6  6  6  6  6  6  6  6  6  6  6  7  7  7  7  7\n",
            "  8  8  8  8  8  8  8  8  8  8  9  9  9  9  9  9  9  9 10 10 10 10 10 10\n",
            " 10 10 10 10]\n"
          ],
          "name": "stdout"
        }
      ]
    },
    {
      "cell_type": "markdown",
      "metadata": {
        "id": "cBbLuzfTRJau"
      },
      "source": [
        "# Moda"
      ]
    },
    {
      "cell_type": "code",
      "metadata": {
        "colab": {
          "base_uri": "https://localhost:8080/"
        },
        "id": "MQwnJMTjMKhJ",
        "outputId": "3455d8d0-a2f0-4f22-a3c0-3e8a2022519f"
      },
      "source": [
        "# Convertimos la data en un objeto Series de panda\n",
        "data = pd.Series(raw_data)\n",
        "# utilizamos el metodo value_counts() para ver la data\n",
        "print(data.value_counts())\n",
        "#\n",
        "m = data.value_counts().index.tolist()\n",
        "moda = m[0]\n",
        "print('Moda: ',moda)\n"
      ],
      "execution_count": null,
      "outputs": [
        {
          "output_type": "stream",
          "text": [
            "4     15\n",
            "5     14\n",
            "6     11\n",
            "1     11\n",
            "10    10\n",
            "8     10\n",
            "2      9\n",
            "9      8\n",
            "3      7\n",
            "7      5\n",
            "dtype: int64\n",
            "Moda:  4\n"
          ],
          "name": "stdout"
        }
      ]
    },
    {
      "cell_type": "markdown",
      "metadata": {
        "id": "uZ5A8gfQRLyu"
      },
      "source": [
        "# Mediana"
      ]
    },
    {
      "cell_type": "code",
      "metadata": {
        "colab": {
          "base_uri": "https://localhost:8080/"
        },
        "id": "pPAp5IHNRDOX",
        "outputId": "2e7b948d-e0f0-4943-bc8d-f029f168302b"
      },
      "source": [
        "# Podemos ver la mediana como el numero central de nuestra lista de datos\n",
        "print(raw_data)\n",
        "# Revisamos el largo de nuestra lista \n",
        "print('Largo de lista de datos',len(raw_data))\n",
        "# El largo es 100 por lo tanto para la mediana utilizaremos el promedio de los 2 valores centrales\n",
        "mediana = (raw_data[48] + raw_data[49]) / 2\n",
        "print('La mediana es:', mediana)"
      ],
      "execution_count": null,
      "outputs": [
        {
          "output_type": "stream",
          "text": [
            "[ 1  1  1  1  1  1  1  1  1  1  1  2  2  2  2  2  2  2  2  2  3  3  3  3\n",
            "  3  3  3  4  4  4  4  4  4  4  4  4  4  4  4  4  4  4  5  5  5  5  5  5\n",
            "  5  5  5  5  5  5  5  5  6  6  6  6  6  6  6  6  6  6  6  7  7  7  7  7\n",
            "  8  8  8  8  8  8  8  8  8  8  9  9  9  9  9  9  9  9 10 10 10 10 10 10\n",
            " 10 10 10 10]\n",
            "Largo de lista de datos 100\n",
            "La mediana es: 5.0\n",
            "5.0\n"
          ],
          "name": "stdout"
        }
      ]
    },
    {
      "cell_type": "markdown",
      "metadata": {
        "id": "aZWeaUSgVPT2"
      },
      "source": [
        "# Media o promedio"
      ]
    },
    {
      "cell_type": "code",
      "metadata": {
        "colab": {
          "base_uri": "https://localhost:8080/"
        },
        "id": "vRDr3smoUCIJ",
        "outputId": "9375d627-4247-4fb2-8503-fe4049e79953"
      },
      "source": [
        "# El promedio aritmetico es la suma de cada valor entre el numero total de valores\n",
        "media = raw_data.sum() / len(raw_data)\n",
        "print('La media es', media)"
      ],
      "execution_count": null,
      "outputs": [
        {
          "output_type": "stream",
          "text": [
            "La media es 5.33\n",
            "5.33\n"
          ],
          "name": "stdout"
        }
      ]
    },
    {
      "cell_type": "code",
      "metadata": {
        "colab": {
          "base_uri": "https://localhost:8080/"
        },
        "id": "gX8TKtRuW5gc",
        "outputId": "7b964179-17fd-4b91-9e0d-f6d289bbae94"
      },
      "source": [
        "# metodos mas directos\n",
        "from scipy import stats\n",
        "\n",
        "# moda \n",
        "print('Moda',stats.mode(raw_data))\n",
        "# mediana\n",
        "print('Mediana', np.median(raw_data))\n",
        "# media\n",
        "print('Media',np.mean(raw_data))\n",
        "# desviacion tipica\n",
        "print('Desviacion tipica',np.std(raw_data))\n",
        "# varianza\n",
        "print('Varianza', np.var(raw_data))\n",
        "print('Varianza es la desviacion tipica al cuadrado',np.std(raw_data)**2)"
      ],
      "execution_count": null,
      "outputs": [
        {
          "output_type": "stream",
          "text": [
            "Moda ModeResult(mode=array([4]), count=array([15]))\n",
            "Mediana 5.0\n",
            "Media 5.33\n",
            "Desviacion tipica 2.807329692073947\n",
            "Varianza 7.8811\n",
            "Varianza es la desviacion tipica al cuadrado 7.881100000000001\n"
          ],
          "name": "stdout"
        }
      ]
    },
    {
      "cell_type": "code",
      "metadata": {
        "id": "QDCKKjCifDq0"
      },
      "source": [
        ""
      ],
      "execution_count": null,
      "outputs": []
    }
  ]
}
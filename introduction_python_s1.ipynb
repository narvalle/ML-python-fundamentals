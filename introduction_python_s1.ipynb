{
 "metadata": {
  "language_info": {
   "codemirror_mode": {
    "name": "ipython",
    "version": 3
   },
   "file_extension": ".py",
   "mimetype": "text/x-python",
   "name": "python",
   "nbconvert_exporter": "python",
   "pygments_lexer": "ipython3",
   "version": "3.8.5-final"
  },
  "orig_nbformat": 2,
  "kernelspec": {
   "name": "python3",
   "display_name": "Python 3"
  }
 },
 "nbformat": 4,
 "nbformat_minor": 2,
 "cells": [
  {
   "source": [
    "# Variables and types"
   ],
   "cell_type": "markdown",
   "metadata": {}
  },
  {
   "source": [
    "## Data type"
   ],
   "cell_type": "markdown",
   "metadata": {}
  },
  {
   "cell_type": "code",
   "execution_count": null,
   "metadata": {},
   "outputs": [],
   "source": [
    "##varible types.\n",
    "\n",
    "#constantes\n",
    "PI = 3.1416\n",
    "\n",
    "#int\n",
    "age = 10\n",
    "print(type(age))\n",
    "\n",
    "#float\n",
    "distance = 512.36\n",
    "print(type(distance))\n",
    "\n",
    "#boolean\n",
    "is_valid = True\n",
    "print(type(is_valid))\n",
    "\n",
    "#text\n",
    "name = 'Alexander'\n",
    "print(type(name))"
   ]
  },
  {
   "source": [
    "## Data Convert"
   ],
   "cell_type": "markdown",
   "metadata": {}
  },
  {
   "cell_type": "code",
   "execution_count": null,
   "metadata": {},
   "outputs": [],
   "source": [
    "cant_float = float('23.33')\n",
    "cant_int = int('23')\n",
    "str_from_num = str(33.22)\n",
    "\n",
    "#print data types\n",
    "print('Float convert from str: ',type(cant_float))\n",
    "print('Int convert from str: ',type(cant_int))\n",
    "print('Str convert from numeric: ',type(str_from_num))"
   ]
  },
  {
   "source": [
    "## List, Tuplas and Dictionaries"
   ],
   "cell_type": "markdown",
   "metadata": {}
  },
  {
   "cell_type": "code",
   "execution_count": null,
   "metadata": {},
   "outputs": [],
   "source": [
    "#Lists\n",
    "list_number = [1,2,3,4,5,6,7,8,9,10]\n",
    "\n",
    "#index manager in list\n",
    "#get item from index\n",
    "print(list_number[0])\n",
    "\n",
    "#get item from negative index\n",
    "print(list_number[-1])\n",
    "\n",
    "#get intems from interval\n",
    "print(list_number[0:5])\n",
    "print(list_number[:3])\n",
    "\n",
    "#add item to list\n",
    "colors = ['rojos', 'azul','blanco', 'negro']\n",
    "print(colors)\n",
    "colors.append('amarillo')\n",
    "print(colors[len(colors) - 1])"
   ]
  },
  {
   "cell_type": "code",
   "execution_count": 2,
   "metadata": {},
   "outputs": [
    {
     "output_type": "stream",
     "name": "stdout",
     "text": [
      "Type:  <class 'tuple'>  values:  (1, 2, 3, 4, 5)\nType:  <class 'int'>  values:  1\n"
     ]
    }
   ],
   "source": [
    "#tuples\n",
    "number_tuple = (1,2,3,4,5)\n",
    "print('Type: ', type(number_tuple), ' values: ', number_tuple)\n",
    "\n",
    "#get item from index\n",
    "item_number_tuple = number_tuple[0]\n",
    "print('Type: ', type(item_number_tuple), ' values: ', item_number_tuple)\n"
   ]
  },
  {
   "cell_type": "code",
   "execution_count": 8,
   "metadata": {},
   "outputs": [
    {
     "output_type": "stream",
     "name": "stdout",
     "text": [
      "Type:  <class 'dict'>  values:  {'1': 'Juan', '2': 'Jose', '3': 'Pedro'}\nType:  <class 'str'>  values:  Jose\nType:  <class 'dict'>  values:  {'1': 'Juan', '2': 'Jose', '3': 'Pedro', '5': 'Pablo'}\nType:  <class 'dict'>  values:  {'1': 'Juan', '3': 'Pedro', '5': 'Pablo'}\n"
     ]
    }
   ],
   "source": [
    "#dictionaries\n",
    "names = {\n",
    "    '1': 'Juan',\n",
    "    '2': 'Jose',\n",
    "    '3': 'Pedro'\n",
    "}\n",
    "\n",
    "print('Type: ', type(names), ' values: ', names)\n",
    "\n",
    "#get item\n",
    "item_key = '2'\n",
    "print('Type: ', type(names.get(item_key)), ' values: ', names.get(item_key))\n",
    "\n",
    "#add item\n",
    "names['5'] = 'Pablo'\n",
    "print('Type: ', type(names), ' values: ', names)\n",
    "\n",
    "#remove item\n",
    "names.pop(item_key)\n",
    "print('Type: ', type(names), ' values: ', names)"
   ]
  }
 ]
}
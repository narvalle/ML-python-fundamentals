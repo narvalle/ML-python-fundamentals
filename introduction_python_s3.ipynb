{
 "cells": [
  {
   "cell_type": "markdown",
   "metadata": {},
   "source": [
    "# Functions"
   ]
  },
  {
   "cell_type": "code",
   "execution_count": null,
   "metadata": {},
   "outputs": [],
   "source": [
    "#structure \n",
    "#>>> def name_function():\n",
    "#           code here!!\n",
    "\n",
    "def func_pow(base, exponent):\n",
    "    i = 0\n",
    "    result = 1\n",
    "    while i < exponent:\n",
    "        result *= base\n",
    "        i += 1\n",
    "\n",
    "    return result"
   ]
  },
  {
   "source": [
    "### function inner in other function"
   ],
   "cell_type": "markdown",
   "metadata": {}
  },
  {
   "cell_type": "code",
   "execution_count": null,
   "metadata": {},
   "outputs": [],
   "source": [
    "def inner_pow(base, exponent):\n",
    "    i = 0\n",
    "    result = 1\n",
    "    while i < exponent:\n",
    "        def product_concat(number, total):            \n",
    "            return number * total\n",
    "        result = product_concat(base, result)\n",
    "        i += 1\n",
    "\n",
    "    return result"
   ]
  },
  {
   "source": [
    "### funtions with parametter for position "
   ],
   "cell_type": "markdown",
   "metadata": {}
  },
  {
   "cell_type": "code",
   "execution_count": null,
   "metadata": {},
   "outputs": [],
   "source": [
    "def func_args_positions(*args):\n",
    "    for arg in args:\n",
    "        print(type(arg))\n",
    "\n",
    "name=''\n",
    "list_colors = ['red', 'blue']\n",
    "dic_colors = {\n",
    "    'colors': list_colors,\n",
    "    'name': name\n",
    "}\n",
    "\n",
    "func_args_positions(10, name, list_colors, dic_colors)"
   ]
  },
  {
   "source": [
    "### funcion with parametter for name"
   ],
   "cell_type": "markdown",
   "metadata": {}
  },
  {
   "cell_type": "code",
   "execution_count": null,
   "metadata": {},
   "outputs": [],
   "source": [
    "def func_args_named(**kwargs):\n",
    "    print(kwargs)\n",
    "\n",
    "func_args_named(name = 'Jual', last_name = 'Perez')"
   ]
  },
  {
   "source": [
    "### return multiple "
   ],
   "cell_type": "markdown",
   "metadata": {}
  },
  {
   "cell_type": "code",
   "execution_count": null,
   "metadata": {},
   "outputs": [],
   "source": [
    "def func_multiple_return():\n",
    "    return 1,2,3,4,'Hello'\n",
    "\n",
    "func_multiple_return()"
   ]
  },
  {
   "source": [
    "### define function"
   ],
   "cell_type": "markdown",
   "metadata": {}
  },
  {
   "cell_type": "code",
   "execution_count": null,
   "metadata": {},
   "outputs": [],
   "source": [
    "def function_pass:\n",
    "    pass\n",
    "\n"
   ]
  },
  {
   "source": [
    "# Clases\n",
    "#### Structure\n",
    "`\n",
    "    Class <class_name>:\n",
    "`\n",
    "\n",
    "#### Properties\n",
    "`\n",
    "    Class <class_name>:\n",
    "        propertie = True\n",
    "`\n",
    "\n",
    "#### Constructor\n",
    "`\n",
    "   def __init__(self, arg1, arg2):\n",
    "        self.propertie1 = arg1\n",
    "        self.propertie2 = arg2\n",
    "`\n"
   ],
   "cell_type": "markdown",
   "metadata": {}
  },
  {
   "cell_type": "code",
   "execution_count": null,
   "metadata": {},
   "outputs": [],
   "source": [
    "class Car:\n",
    "    def __init__(self, color, name):\n",
    "        self.color = color\n",
    "        self.name = name\n",
    "\n",
    "car = Car('red', 'Model S')\n",
    "\n",
    "print(car.name, type(car))"
   ]
  },
  {
   "source": [
    "### Class defined only and using as container"
   ],
   "cell_type": "markdown",
   "metadata": {}
  },
  {
   "cell_type": "code",
   "execution_count": null,
   "metadata": {},
   "outputs": [],
   "source": [
    "class Person:\n",
    "    pass\n",
    "\n",
    "print(Person)\n",
    "\n",
    "Person.name = 'Juan'\n",
    "print(Person.name)"
   ]
  },
  {
   "source": [
    "### Using class with inner properties and constructor properties "
   ],
   "cell_type": "markdown",
   "metadata": {}
  },
  {
   "cell_type": "code",
   "execution_count": null,
   "metadata": {},
   "outputs": [],
   "source": [
    "class Specie:\n",
    "    def __init__(self, name):\n",
    "        self.name = name\n",
    "    def get_name():\n",
    "        return self.name\n",
    "\n",
    "class Animal:\n",
    "    skills = []\n",
    "    def __init__(self, name, p_spice):\n",
    "        self.name = name\n",
    "        self.spice = p_spice\n",
    "\n",
    "    def add_skill(self, skill):\n",
    "        self.skills.append(skill)\n",
    "\n",
    "dog = Animal('Blue', Specie('Canino'))\n",
    "dog.add_skill('Ladrar')\n",
    "dog.add_skill('Comer')\n",
    "\n",
    "print(dog.name)\n",
    "print(dog.spice.name)\n",
    "print(dog.skills)"
   ]
  },
  {
   "cell_type": "code",
   "execution_count": null,
   "metadata": {},
   "outputs": [],
   "source": []
  }
 ],
 "metadata": {
  "kernelspec": {
   "display_name": "Python 3",
   "language": "python",
   "name": "python3"
  },
  "language_info": {
   "codemirror_mode": {
    "name": "ipython",
    "version": 3
   },
   "file_extension": ".py",
   "mimetype": "text/x-python",
   "name": "python",
   "nbconvert_exporter": "python",
   "pygments_lexer": "ipython3",
   "version": "3.8.5-final"
  }
 },
 "nbformat": 4,
 "nbformat_minor": 2
}
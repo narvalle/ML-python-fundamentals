{
 "cells": [
  {
   "cell_type": "markdown",
   "metadata": {},
   "source": [
    "# Functions"
   ]
  },
  {
   "cell_type": "code",
   "execution_count": null,
   "metadata": {},
   "outputs": [],
   "source": [
    "#structure \n",
    "#>>> def name_function():\n",
    "#           code here!!\n",
    "\n",
    "def func_pow(base, exponent):\n",
    "    i = 0\n",
    "    result = 1\n",
    "    while i < exponent:\n",
    "        result *= base\n",
    "        i += 1\n",
    "\n",
    "    return result\n",
    "\n",
    "#function inner in other function\n",
    "def inner_pow(base, exponent):\n",
    "    i = 0\n",
    "    result = 1\n",
    "    while i < exponent:\n",
    "        def product_concat(number, total):            \n",
    "            return number * total\n",
    "        result = product_concat(base, result)\n",
    "        i += 1\n",
    "\n",
    "    return result\n",
    "\n",
    "#funtions with indefinide parametter number \n",
    "def func_args(number, *args):\n",
    "    for arg in args:\n",
    "        print(type(arg))\n",
    "name=''\n",
    "list_colors = ['red', 'blue']\n",
    "dic_colors = {\n",
    "    'colors': list_colors,\n",
    "    'name': name\n",
    "}\n",
    "func_args(10, name, list_colors, dic_colors)"
   ]
  },
  {
   "cell_type": "code",
   "execution_count": null,
   "metadata": {},
   "outputs": [],
   "source": []
  }
 ],
 "metadata": {
  "kernelspec": {
   "display_name": "Python 3",
   "language": "python",
   "name": "python3"
  },
  "language_info": {
   "codemirror_mode": {
    "name": "ipython",
    "version": 3
   },
   "file_extension": ".py",
   "mimetype": "text/x-python",
   "name": "python",
   "nbconvert_exporter": "python",
   "pygments_lexer": "ipython3",
   "version": "3.8.5-final"
  }
 },
 "nbformat": 4,
 "nbformat_minor": 2
}
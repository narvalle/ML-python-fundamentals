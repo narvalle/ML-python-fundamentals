{
 "cells": [
  {
   "cell_type": "markdown",
   "metadata": {},
   "source": [
    "# Manage Files"
   ]
  },
  {
   "cell_type": "markdown",
   "metadata": {},
   "source": [
    "### READ"
   ]
  },
  {
   "cell_type": "code",
   "execution_count": null,
   "metadata": {},
   "outputs": [],
   "source": [
    "file_txt = open('./local_files/test.txt', 'r')\n",
    "text_in_file = file_txt.read()\n",
    "file_txt.close()\n",
    "\n",
    "text_in_file"
   ]
  },
  {
   "cell_type": "markdown",
   "metadata": {},
   "source": [
    "### WRITE"
   ]
  },
  {
   "cell_type": "code",
   "execution_count": null,
   "metadata": {},
   "outputs": [],
   "source": [
    "file_txt = open('./local_files/test.txt', 'w')\n",
    "file_txt.write('This file is edited')\n",
    "file_txt.close()\n",
    "\n"
   ]
  },
  {
   "cell_type": "markdown",
   "metadata": {},
   "source": [
    "### MAMAGE FILE USING SENTENCE with"
   ]
  },
  {
   "cell_type": "code",
   "execution_count": null,
   "metadata": {},
   "outputs": [],
   "source": [
    "with open('./local_files/test.txt', 'w') as file:\n",
    "    file.write('This file is edit using sencence WITH')"
   ]
  },
  {
   "cell_type": "markdown",
   "metadata": {},
   "source": [
    "# NUMPY"
   ]
  },
  {
   "cell_type": "code",
   "execution_count": null,
   "metadata": {},
   "outputs": [],
   "source": [
    "import numpy as np\n",
    "\n",
    "#Convert tople, list in a new numpy array\n",
    "np_array = np.array([1,2,3,4,5,6]) \n",
    "print(np_array, f'data type {type(np_array)}')"
   ]
  },
  {
   "cell_type": "markdown",
   "metadata": {},
   "source": [
    "### Array con dimenciones"
   ]
  },
  {
   "cell_type": "code",
   "execution_count": null,
   "metadata": {},
   "outputs": [],
   "source": [
    "#array cero dimension\n",
    "array_0d = np.array(10)\n",
    "print(array_0d, f'dimeciones: {array_0d.ndim}')\n",
    "\n",
    "#array one dimension\n",
    "array_1d = np.array([1,2,3,4,5])\n",
    "print(array_1d, f'dimeciones: {array_1d.ndim}')\n",
    "\n",
    "#array two dimension\n",
    "array_3d = np.array([[1,2,3,4],[5,6,7,8]])\n",
    "print(array_3d, f'dimeciones: {array_3d.ndim}')\n",
    "\n",
    "#array three dimension\n",
    "array_3d = np.array([[[1,2,3,4],[5,6,7,8]],[[9,10,11,12],[13,14,15,16]]])\n",
    "print(array_3d, f'dimeciones: {array_3d.ndim}')"
   ]
  },
  {
   "cell_type": "markdown",
   "metadata": {},
   "source": [
    "### ones arrays\n"
   ]
  },
  {
   "cell_type": "code",
   "execution_count": null,
   "metadata": {},
   "outputs": [],
   "source": [
    "array_ones = np.ones((20,20),dtype=np.int16)\n",
    "#print(array_ones)\n",
    "print(f'Shape of array: \\n {array_ones.shape}')"
   ]
  },
  {
   "cell_type": "markdown",
   "metadata": {},
   "source": [
    "### diagonal arrays"
   ]
  },
  {
   "cell_type": "code",
   "execution_count": null,
   "metadata": {},
   "outputs": [],
   "source": [
    "array_diagonal = np.diag(np.ones(20,dtype=np.int16))\n",
    "\n",
    "#PI \n",
    "PI = np.pi\n",
    "\n",
    "#Seno, Coseno, etc\\\n",
    "seno = np.sin(PI/2)\n",
    "seno\n",
    "\n",
    "#operations with numpy\n",
    "degrees = 180\n",
    "radians = np.deg2rad(degrees)\n",
    "cos = np.cos(radians)\n",
    "\n",
    "\n"
   ]
  },
  {
   "cell_type": "markdown",
   "metadata": {},
   "source": [
    "# PANDAS"
   ]
  },
  {
   "cell_type": "code",
   "execution_count": 2,
   "metadata": {},
   "outputs": [],
   "source": [
    "import pandas as pd\n",
    "\n",
    "#read files .csv\n",
    "data_frame_from_csv = pd.read_csv('https://www.stats.govt.nz/assets/Uploads/Annual-enterprise-survey/Annual-enterprise-survey-2019-financial-year-provisional/Download-data/annual-enterprise-survey-2019-financial-year-provisional-size-bands-csv.csv', index_col=0)\n",
    "\n",
    "#select row from start to finish\n",
    "data_frame_from_csv.head(2)\n",
    "\n",
    "#select wor from finish to start\n",
    "data_frame_from_csv.tail(2)\n",
    "\n",
    "#select only column\n",
    "data_frame_from_csv.columns\n",
    "\n",
    "#get all items from only columns\n",
    "industry_name_ANZSIC = data_frame_from_csv.head()['industry_name_ANZSIC'].values.tolist()\n"
   ]
  },
  {
   "cell_type": "markdown",
   "metadata": {},
   "source": [
    "### Handled Columns"
   ]
  },
  {
   "cell_type": "code",
   "execution_count": null,
   "metadata": {},
   "outputs": [],
   "source": [
    "#lower all columns titles\n",
    "colums_lower = data_frame_from_csv.columns.str.lower().tolist()\n",
    "\n",
    "#reemplaze character\n",
    "data_frame_from_csv.columns.str.replace(' ', '')\n",
    "\n"
   ]
  },
  {
   "cell_type": "markdown",
   "metadata": {},
   "source": [
    "### Handled rows"
   ]
  },
  {
   "cell_type": "code",
   "execution_count": null,
   "metadata": {},
   "outputs": [],
   "source": [
    "#using all STR manipulations\n",
    "#using remplace\n",
    "replace_value = data_frame_from_csv.head()['value'].str.replace('0', '-1')\n",
    "\n",
    "#order by or sort\n",
    "data_frame_from_csv.head().sort_values(by='variable', ascending=True)\n"
   ]
  },
  {
   "cell_type": "markdown",
   "metadata": {},
   "source": [
    "### Manage DataFrame"
   ]
  },
  {
   "cell_type": "code",
   "execution_count": null,
   "metadata": {},
   "outputs": [],
   "source": [
    "#verify data null\n",
    "#isnull return data_frame and can be manipulated as a list\n",
    "data_frame_from_csv.isnull().count()\n",
    "\n",
    "#isna: Return a boolean same-sized object indicating if the values are NA\n",
    "data_frame_from_csv.isna().any()\n",
    "\n",
    "#counts equal columns \n",
    "data_frame_from_csv.head()['unit'].value_counts()\n",
    "\n",
    "data_frame_from_csv.describe()"
   ]
  },
  {
   "cell_type": "markdown",
   "metadata": {},
   "source": [
    "### Using Drop(Delete)"
   ]
  },
  {
   "cell_type": "code",
   "execution_count": null,
   "metadata": {},
   "outputs": [],
   "source": [
    "_head = data_frame_from_csv.head()\n",
    "drop_df = _head.drop(['rme_size_grp', 'industry_code_ANZSIC', 'industry_name_ANZSIC'], axis=1)\n",
    "drop_df"
   ]
  },
  {
   "cell_type": "markdown",
   "metadata": {},
   "source": [
    "# MATPLOTLIB"
   ]
  },
  {
   "cell_type": "code",
   "execution_count": 6,
   "metadata": {},
   "outputs": [
    {
     "data": {
      "text/plain": [
       "[<matplotlib.lines.Line2D at 0x1a4200ab6a0>]"
      ]
     },
     "execution_count": 6,
     "metadata": {},
     "output_type": "execute_result"
    },
    {
     "data": {
      "image/png": "[encoded data removed]",
      "text/plain": [
       "<Figure size 432x288 with 1 Axes>"
      ]
     },
     "metadata": {
      "needs_background": "light"
     },
     "output_type": "display_data"
    }
   ],
   "source": [
    "import matplotlib.pyplot as plt\n",
    "\n",
    "#plot\n",
    "#generates a chart with only one list\n",
    "#plt.plot([1,2,3,10,5,0,7,8,9,10])\n",
    "\n",
    "#generate chart with X and Y using two list\n",
    "plt.plot([1,20,5,9], [10,5,11,9], 'ro')"
   ]
  },
  {
   "cell_type": "markdown",
   "metadata": {},
   "source": [
    "### example chart"
   ]
  },
  {
   "cell_type": "code",
   "execution_count": null,
   "metadata": {},
   "outputs": [],
   "source": [
    "import numpy as np\n",
    "\n",
    "#create array using numpy\n",
    "#arange(start, end, cant_sum)\n",
    "#data_array = np.arange(0., 5.,0.2)\n",
    "\n",
    "#create chart\n",
    "#plot(x, y, typeChart, ... nChart)\n",
    "#plt.plot(data_array, data_array, 'r--', data_array, data_array**2, 'bs', data_array, data_array**3, 'g^')\n",
    "\n",
    "#shape chart bar\n",
    "#shape background\n",
    "plt.figure(figsize=(15,10))\n",
    "#plt.bar(data_frame_from_csv['value'].unique(), data_frame_from_csv['value'].value_counts())\n",
    "#plt.show()\n",
    "\n",
    "x_data = data_frame_from_csv.head(50)['value'].unique()\n",
    "y_data = data_frame_from_csv.head(50)['value'].value_counts()\n",
    "\n",
    "plt.bar(x_data, y_data)\n",
    "plt.show()"
   ]
  },
  {
   "cell_type": "code",
   "execution_count": null,
   "metadata": {},
   "outputs": [],
   "source": []
  },
  {
   "cell_type": "code",
   "execution_count": null,
   "metadata": {},
   "outputs": [],
   "source": []
  }
 ],
 "metadata": {
  "kernelspec": {
   "display_name": "Python 3",
   "language": "python",
   "name": "python3"
  },
  "language_info": {
   "codemirror_mode": {
    "name": "ipython",
    "version": 3
   },
   "file_extension": ".py",
   "mimetype": "text/x-python",
   "name": "python",
   "nbconvert_exporter": "python",
   "pygments_lexer": "ipython3",
   "version": "3.8.5"
  }
 },
 "nbformat": 4,
 "nbformat_minor": 2
}

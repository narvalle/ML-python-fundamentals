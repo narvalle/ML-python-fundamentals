{
 "metadata": {
  "language_info": {
   "codemirror_mode": {
    "name": "ipython",
    "version": 3
   },
   "file_extension": ".py",
   "mimetype": "text/x-python",
   "name": "python",
   "nbconvert_exporter": "python",
   "pygments_lexer": "ipython3",
   "version": "3.8.5-final"
  },
  "orig_nbformat": 2,
  "kernelspec": {
   "name": "python3",
   "display_name": "Python 3"
  }
 },
 "nbformat": 4,
 "nbformat_minor": 2,
 "cells": [
  {
   "source": [
    "# Math for machine learning"
   ],
   "cell_type": "markdown",
   "metadata": {}
  },
  {
   "source": [
    "## Probability\n",
    "The Probability for A is P(A) = favorable_cases/possible_cases\n",
    "Sample space = possible_cases\n",
    "\n",
    "### Example\n",
    "Si tiramos un dado, cual es la probabilidad que caiga 2"
   ],
   "cell_type": "markdown",
   "metadata": {}
  },
  {
   "cell_type": "code",
   "execution_count": null,
   "metadata": {},
   "outputs": [],
   "source": [
    "#Sample space\n",
    "E = [1,2,3,4,5,6]\n",
    "\n",
    "# suceso ---> para sacar un 2 = P(A) = 1/E\n",
    "# len: get count list\n",
    "PA = 1/ len(E)\n",
    "PA\n"
   ]
  },
  {
   "source": [
    "### Example\n",
    "Si tiramos 2 monedas, cual es la probabilidad que salga al menos una cara"
   ],
   "cell_type": "markdown",
   "metadata": {}
  },
  {
   "cell_type": "code",
   "execution_count": null,
   "metadata": {},
   "outputs": [],
   "source": [
    "#Sample space\n",
    "sp_coin = ['cara-corona', 'cara-cara', 'corona-cara', 'corona-corona']\n",
    "\n",
    "#possible cases cara-corona, cara-cara, corona-cara\n",
    "pa_coin = 3/len(sp_coin)\n",
    "f'{pa_coin * 100} %'"
   ]
  },
  {
   "source": [
    "# **Axiomas y propiedades**\n",
    "\n",
    "# *Axiomas*\n",
    "\n",
    "*   La probabilidad es positiva y menor o igual que 1.\n",
    "\n",
    "    0 ≤ p(A) ≤ 1\n",
    "\n",
    "*   La probabilidad del suceso seguro es 1.\n",
    "\n",
    "    P(E) = 1\n",
    "\n",
    "*   Si A y B son excluyentes, es decir A ∩ B = ∅ entonces:\n",
    "\n",
    "    P(A U B) = P(A) + P(B)\n",
    "\n",
    "    \n",
    "\n",
    "# *Propiedades* \n",
    "\n",
    "\n",
    "*   La suma de la probabilidad de un suceso y su contrario es igual a 1, entonces la probabilidad de un suceso contrario es:\n",
    "    \n",
    "    P(Ac) = 1 - P(A)\n",
    "*   La probabilidad de un suceso imposible es cero.\n",
    "\n",
    "    P(∅) = 0\n",
    "*   La probabilidad de la union de dos sucesos A o B es la suma de sus probabilidades menos la probabilidad de su interseccion. \n",
    "\n",
    "    P(A U B) = P(A) + P(B) - P(A ∩ B)\n",
    "*   La probabilidad de la interseccion de A y B es la probabilidad de A por la probabilidad de B. Solo cuando los sucesos son independientes.\n",
    "\n",
    "    P(A ∩ B) = P(A) * P(B)\n",
    "*   Si la probabilidad de un suceso A cambia cuando se sabe si un suceso B ha ocurrido se llama *probabilidad condicionada.*\n",
    "\n",
    "    P(A/B) = P(A ∩ B) / P(B)"
   ],
   "cell_type": "markdown",
   "metadata": {}
  },
  {
   "cell_type": "code",
   "execution_count": null,
   "metadata": {},
   "outputs": [],
   "source": [
    "# Ejemplo 3\n",
    "''' Cual es la probabilidad que al tirar un dado salga un numero par'''\n",
    "E = [1,2,3,4,5,6] # todos los resultados posibles al tirar un dado\n",
    "A = [2,4,6] # resultados favorables, o sea numeros pares\n",
    "B = [1,3,5] # resultados impartes\n",
    "PA = len(A) / len(E)\n",
    "print(f'Probabilidad de que un numero sea par {PA*100}%')\n",
    "# Cual es la probabilidad de que NO sea un numero par\n",
    "# El complemento de P(A) seria P(Ac) = 1 - P(A)\n",
    "PAc = 1 - PA \n",
    "#or using B\n",
    "PAcc = len(B)/len(E)\n",
    "\n",
    "print(f'Probabilidad de que un numero sea impar {PAc*100}%')"
   ]
  },
  {
   "source": [
    "# Probabilidad condicionada"
   ],
   "cell_type": "markdown",
   "metadata": {}
  },
  {
   "cell_type": "code",
   "execution_count": null,
   "metadata": {},
   "outputs": [],
   "source": [
    "# Ejemplo 4\n",
    "''' Cual es la probabilidad de obtener un 3 al tirar un dado si sabemos que\n",
    "ha salido un numero impar'''\n",
    "# A = probabilidad de obtener un 3\n",
    "# B = Probabilidad de que sea impar\n",
    "E = [1,2,3,4,5,6] # posibles resultados al tirar un dado\n",
    "A = [3] # resultados favorables de que sea 3, es uno nada mas\n",
    "\n",
    "# La probabilidad de obtener un 3 al tirar un dado es P(A) \n",
    "PA = len(A)/len(E)\n",
    "print(f'Probabilidad de obtener un 3 es {PA*100}%')\n",
    "\n",
    "# La probabilidad de obtener un impar\n",
    "B = [1,3,5] # resultados favorables de que sea impar, son 3\n",
    "# La probabilidad de obtener un numero impar al tirar un dado es P(B)\n",
    "PB = len(B)/len(E)\n",
    "print(f'Probabilidad de obtener un numero impar es {PB*100}%')\n",
    "\n",
    "# La formula de la probabilidad condicionada es P(A/B) = P(A ∩ B) / P(B)\n",
    "# P(3/impar) = P(3 y impar) / P(impar)\n",
    "PAyB = 1/len(E) \n",
    "\n",
    "P_AB = PAyB / PB\n",
    "print(f'La probabilidad de obtener un 3 sabiendo que salio un impar es {P_AB*100}')"
   ]
  },
  {
   "source": [
    "# Moda, media y mediana.\n",
    "\n",
    "**Moda:** Es el valor que mas se repite o que se repite varias veces en una lista numerica. \n",
    "\n",
    "**Mediana:** Representa el dato central en un conjunto de numeros ordenados. \n",
    "\n",
    "**Media:** Generalmente se le conoce como el promedio de un grupo de numeros. "
   ],
   "cell_type": "markdown",
   "metadata": {}
  },
  {
   "cell_type": "code",
   "execution_count": null,
   "metadata": {},
   "outputs": [],
   "source": [
    "# Moda, mediana y media\n",
    "import pandas as pd\n",
    "import numpy as np\n",
    "# del modulo numpy importamos random para utilizar variables aleatorias, utilizamos seed(0) para obtener\n",
    "# siempre los mismos resultados aleatorios\n",
    "np.random.seed(0)\n",
    "# creamos nuestra data con valores del 1 al 10 (Ponemos 11 porque es excluyente) y generamos 100 valores\n",
    "raw_data = np.random.randint(1,11,100)\n",
    "# ordenamos la data, por defecto la ordena de menor a mayor\n",
    "raw_data.sort()\n",
    "# mostramos la data\n",
    "print(raw_data)"
   ]
  },
  {
   "source": [
    "## Moda"
   ],
   "cell_type": "markdown",
   "metadata": {}
  },
  {
   "cell_type": "code",
   "execution_count": 18,
   "metadata": {},
   "outputs": [
    {
     "output_type": "execute_result",
     "data": {
      "text/plain": [
       "4"
      ]
     },
     "metadata": {},
     "execution_count": 18
    }
   ],
   "source": [
    "#convert the data in Series object of pandas\n",
    "data = pd.Series(raw_data)\n",
    "\n",
    "#get list count items repeat\n",
    "m = data.value_counts().index.tolist()\n",
    "\n",
    "#moda is a item in index initial\n",
    "moda = m[0]\n"
   ]
  },
  {
   "source": [
    "## Mediana"
   ],
   "cell_type": "markdown",
   "metadata": {}
  },
  {
   "cell_type": "code",
   "execution_count": 21,
   "metadata": {},
   "outputs": [
    {
     "output_type": "execute_result",
     "data": {
      "text/plain": [
       "5.0"
      ]
     },
     "metadata": {},
     "execution_count": 21
    }
   ],
   "source": [
    "len(raw_data)# = 100\n",
    "\n",
    "#using center values \n",
    "mediana = (raw_data[48] + raw_data[49]) / 2\n",
    "mediana"
   ]
  },
  {
   "source": [
    "## Media o promedio\n",
    "mediana = sum_items / len"
   ],
   "cell_type": "markdown",
   "metadata": {}
  },
  {
   "cell_type": "code",
   "execution_count": 23,
   "metadata": {},
   "outputs": [
    {
     "output_type": "execute_result",
     "data": {
      "text/plain": [
       "5.33"
      ]
     },
     "metadata": {},
     "execution_count": 23
    }
   ],
   "source": [
    "media = raw_data.sum() / len(raw_data)\n",
    "media"
   ]
  },
  {
   "source": [
    "## using Scipy\n",
    "import stats "
   ],
   "cell_type": "markdown",
   "metadata": {}
  },
  {
   "cell_type": "code",
   "execution_count": null,
   "metadata": {},
   "outputs": [],
   "source": [
    "#import \n",
    "from scipy import stats\n",
    "_moda = stats.mode(raw_data)\n",
    "_median = np.median(raw_data)\n",
    "_mean = np.mean(raw_data)\n",
    "_desvi_tipica = np.std(raw_data)\n",
    "_varianza = np.var(raw_data)\n",
    "#varianza es la desviasion tipica al caudrado\n",
    "_varianza__ = np.std(raw_data)**2"
   ]
  }
 ]
}
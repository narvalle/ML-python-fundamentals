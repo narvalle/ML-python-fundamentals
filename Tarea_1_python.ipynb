{
  "nbformat": 4,
  "nbformat_minor": 0,
  "metadata": {
    "colab": {
      "name": "Tarea_1_python.ipynb",
      "provenance": []
    },
    "kernelspec": {
      "name": "python3",
      "display_name": "Python 3"
    }
  },
  "cells": [
    {
      "cell_type": "markdown",
      "metadata": {
        "id": "CdOBiARowr9p"
      },
      "source": [
        "#**EJERCICIO 1: CALCULADORA**"
      ]
    },
    {
      "cell_type": "markdown",
      "metadata": {
        "id": "adTrVsKWxFTF"
      },
      "source": [
        "Indicaciones: Crear una clase \"calculadora\" que realice los procedimientos de suma, resta, multiplicación , división, potencia y módulo entre dos variables numéricas. Ponderación del ejercicio 50%."
      ]
    },
    {
      "cell_type": "code",
      "metadata": {
        "id": "iik2tmN9ytAo"
      },
      "source": [
        "#Realizar TODO el ejercicio en esta celda.\n",
        "\n",
        "class Calculator:\n",
        "    def __init__(self, n1, n2):\n",
        "        self.n1 = n1\n",
        "        self.n2 = n2\n",
        "    \n",
        "    def sum(self):\n",
        "        return self.n1 + self.n2\n",
        "\n",
        "    def subtraction(self):\n",
        "        return self.n1 - self.n2\n",
        "\n",
        "    def multiplication(self):\n",
        "        return self.n1 * self.n2\n",
        "\n",
        "    ##WARING: parameter n2 cannot be zero\n",
        "    def divide(self):\n",
        "        if self.n2 == 0:\n",
        "            return 'cannot be divided by zero'\n",
        "        else:\n",
        "            return self.n1 / self.n2\n",
        "\n",
        "    #Perform power operation\n",
        "    def pow(self):\n",
        "        return self.n1 ** self.n2\n",
        "\n",
        "    #perform a module operations\n",
        "    #WARING: parameter n2 cannot be zero\n",
        "    def module(self):\n",
        "        if self.n2 == 0:\n",
        "            return 'cannot be divided by zero'\n",
        "        else:\n",
        "            return self.n1 % self.n2\n",
        "    \n",
        "    #return dictionary with all operations\n",
        "    def print_all_operations(self):\n",
        "        return {\n",
        "            'sum': self.sum(),\n",
        "            'subtraction': self.subtraction(),\n",
        "            'multiplication': self.multiplication(),\n",
        "             'divide': self.divide(),\n",
        "             'pow': self.pow(),\n",
        "             'module': self.module()\n",
        "        }\n",
        "    \n",
        "\n",
        "#print all operations\n",
        "Calculator(10,20).print_all_operations()\n"
      ],
      "execution_count": null,
      "outputs": []
    },
    {
      "cell_type": "markdown",
      "metadata": {
        "id": "33uo3AEgy4Th"
      },
      "source": [
        "#**EJERCICIO 2: CONVERSIÓN DE CELSIUS A FAHRENHEIT**"
      ]
    },
    {
      "cell_type": "markdown",
      "metadata": {
        "id": "Nai_4yEGz8N9"
      },
      "source": [
        "Indicaciones: Realizar una función que convierta de grados Celsius a grados Fahrenheit. Realizar una iteración sobre la lista \"celsius\" que se proporciona y almacenar cada uno de los resultados en la lista \"fahrenheit\". La celda debe imprimir la lista *fahrenheit* con los resultados de la conversión. Ponderación del ejercicio 50%."
      ]
    },
    {
      "cell_type": "code",
      "metadata": {
        "id": "EWLqVLai1GNo"
      },
      "source": [
        "#Realizar el ejercicio completo en esta celda. Trabajar sobre las listas proporcionadas\n",
        "celsius = ['32.5', '40.7', '23.0', '44.0', '15.9', '33.8', '45.6', '67.0', '70.4']\n",
        "fahrenheit = []\n",
        "\n",
        "#formula:\n",
        "#(°C × 9/5) + 32 = °F\n",
        "def converter_c_to_f(grades):\n",
        "    return (float(grades) * (9 / 5)) + 32\n",
        "\n",
        "\n",
        "for item in celsius:\n",
        "    fahrenheit.append(converter_c_to_f(item))\n",
        "\n",
        "#print\n",
        "fahrenheit"
      ],
      "execution_count": null,
      "outputs": []
    },
    {
      "cell_type": "code",
      "execution_count": null,
      "metadata": {},
      "outputs": [],
      "source": []
    }
  ]
}
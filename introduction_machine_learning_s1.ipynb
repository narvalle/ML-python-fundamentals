{
 "metadata": {
  "language_info": {
   "codemirror_mode": {
    "name": "ipython",
    "version": 3
   },
   "file_extension": ".py",
   "mimetype": "text/x-python",
   "name": "python",
   "nbconvert_exporter": "python",
   "pygments_lexer": "ipython3",
   "version": "3.8.5-final"
  },
  "orig_nbformat": 2,
  "kernelspec": {
   "name": "python3",
   "display_name": "Python 3"
  }
 },
 "nbformat": 4,
 "nbformat_minor": 2,
 "cells": [
  {
   "source": [
    "## import libraries"
   ],
   "cell_type": "markdown",
   "metadata": {}
  },
  {
   "cell_type": "code",
   "execution_count": null,
   "metadata": {},
   "outputs": [],
   "source": [
    "import numpy as np\n",
    "import pandas as pd\n",
    "import matplotlib.pyplot as plt"
   ]
  },
  {
   "source": [
    "# Supervised Learning: lineal Regression"
   ],
   "cell_type": "markdown",
   "metadata": {}
  },
  {
   "source": [
    "## import DataSet or DataSources"
   ],
   "cell_type": "markdown",
   "metadata": {}
  },
  {
   "cell_type": "code",
   "execution_count": null,
   "metadata": {},
   "outputs": [],
   "source": [
    "df_salary = pd.read_csv('./local_files/salary.csv')"
   ]
  },
  {
   "source": [
    "## Create varibles (Dependent and Independent)"
   ],
   "cell_type": "markdown",
   "metadata": {}
  },
  {
   "source": [
    "### using iloc and loc from pandas"
   ],
   "cell_type": "markdown",
   "metadata": {}
  },
  {
   "cell_type": "code",
   "execution_count": null,
   "metadata": {},
   "outputs": [],
   "source": [
    "# using function loc from pandas or function iloc\n",
    "# loc: gets items column from name ==> SINTAXIS: df.loc[<interval(index:index)>, ['nameColumn]]\n",
    "# iloc: get items column from index ==> SINTAXIS: df.loc[<interval(index:index)>, index:index]\n",
    "\n",
    "#example\n",
    "data_using_loc = df_salary.loc[:, ['YearsExperience']]\n",
    "data_using_iloc = df_salary.head().iloc[:, 1]\n",
    "data_using_loc"
   ]
  },
  {
   "source": [
    "## X, Y"
   ],
   "cell_type": "markdown",
   "metadata": {}
  },
  {
   "cell_type": "code",
   "execution_count": null,
   "metadata": {},
   "outputs": [],
   "source": [
    "#create variable dependent(y) and independet(x)\n",
    "\n",
    "x = df_salary.loc[:, ['YearsExperience']].values\n",
    "y = df_salary.iloc[:, -1].values\n",
    "y"
   ]
  },
  {
   "source": [
    "## dataframe split into training and test set using Sklearn"
   ],
   "cell_type": "markdown",
   "metadata": {}
  },
  {
   "source": [
    "### train_test_split\n",
    "allows testing and training"
   ],
   "cell_type": "markdown",
   "metadata": {}
  },
  {
   "cell_type": "code",
   "execution_count": null,
   "metadata": {},
   "outputs": [],
   "source": [
    "#import\n",
    "from sklearn.model_selection import train_test_split\n",
    "\n",
    "#we create a set of tests and trainings: NOTE: order variables is valid\n",
    "x_train, x_test, y_train, y_test = train_test_split(x, y, test_size = 0.2, random_state = 0)\n",
    "y_train"
   ]
  },
  {
   "source": [
    "## Training the linear regression model with your data set"
   ],
   "cell_type": "markdown",
   "metadata": {}
  },
  {
   "source": [
    "### import LinearRegression"
   ],
   "cell_type": "markdown",
   "metadata": {}
  },
  {
   "cell_type": "code",
   "execution_count": null,
   "metadata": {},
   "outputs": [],
   "source": [
    "from sklearn.linear_model import LinearRegression\n",
    "\n",
    "regressor = LinearRegression()\n",
    "regressor.fit(x_train, y_train)"
   ]
  },
  {
   "source": [
    "### Prediction of test results"
   ],
   "cell_type": "markdown",
   "metadata": {}
  },
  {
   "cell_type": "code",
   "execution_count": null,
   "metadata": {},
   "outputs": [],
   "source": [
    "y_pred = regressor.predict(x_test)\n"
   ]
  },
  {
   "cell_type": "code",
   "execution_count": null,
   "metadata": {},
   "outputs": [],
   "source": [
    "y_test"
   ]
  },
  {
   "source": [
    "## Training set display\n",
    "### using matplotlib.pyplot"
   ],
   "cell_type": "markdown",
   "metadata": {}
  },
  {
   "source": [
    "### show data from training"
   ],
   "cell_type": "markdown",
   "metadata": {}
  },
  {
   "cell_type": "code",
   "execution_count": null,
   "metadata": {},
   "outputs": [],
   "source": [
    "#plot the points from training x, y\n",
    "plt.scatter(x_train, y_train, color = 'red')\n",
    "\n",
    "#show lineal chart of the x= training and y=predict from x_train\n",
    "plt.plot(x_train, regressor.predict(x_train), color = 'blue')\n",
    "\n",
    "#add title chart\n",
    "plt.title('Salary vs Exprence(Training set)')\n",
    "\n",
    "#add varibles x and y\n",
    "plt.xlabel('Years Experience')\n",
    "plt.ylabel('Salary')\n",
    "plt.show()"
   ]
  },
  {
   "source": [
    "### show data from test"
   ],
   "cell_type": "markdown",
   "metadata": {}
  },
  {
   "cell_type": "code",
   "execution_count": null,
   "metadata": {},
   "outputs": [],
   "source": [
    "#plot the points from training x, y\n",
    "plt.scatter(x_test, y_test, color = 'red')\n",
    "\n",
    "#show lineal chart of the x= training and y=predict from x_train\n",
    "plt.plot(x_train, regressor.predict(x_train), color = 'blue')\n",
    "\n",
    "#add title chart\n",
    "plt.title('Salary vs Exprence(test set)')\n",
    "\n",
    "#add varibles x and y\n",
    "plt.xlabel('Years Experience')\n",
    "plt.ylabel('Salary')\n",
    "plt.show()"
   ]
  },
  {
   "cell_type": "code",
   "execution_count": null,
   "metadata": {},
   "outputs": [],
   "source": [
    "### find items base, medium and more salary\n",
    "\n",
    "#create array with values: 0, 5, 15 ==> year\n",
    "arr_year = np.array([[0], [5], [15]])\n",
    "\n",
    "#get predict from array year in the my regressor\n",
    "predict_salary_from_year = regressor.predict(arr_year)\n",
    "\n",
    "#flatten convert array 2D to 1D\n",
    "plt.bar(arr_year.flatten().tolist(), predict_salary_from_year.tolist())\n",
    "#add title chart\n",
    "plt.title('Salary vs Exprence(test set)')\n",
    "\n",
    "#add varibles x and y\n",
    "plt.xlabel('Years Experience')\n",
    "plt.ylabel('Salary')\n",
    "\n",
    "\n",
    "\n"
   ]
  },
  {
   "source": [
    "# Supervised Learning: Logistic Regression"
   ],
   "cell_type": "markdown",
   "metadata": {}
  },
  {
   "source": [
    "## import DataSet or DataSources"
   ],
   "cell_type": "markdown",
   "metadata": {}
  },
  {
   "cell_type": "code",
   "execution_count": null,
   "metadata": {},
   "outputs": [],
   "source": [
    "df_social_network = pd.read_csv('./local_files/social_network_ads.csv')\n",
    "df_social_network.head()"
   ]
  },
  {
   "source": [
    "## Create varibles (Dependent and Independent)"
   ],
   "cell_type": "markdown",
   "metadata": {}
  },
  {
   "cell_type": "code",
   "execution_count": null,
   "metadata": {},
   "outputs": [],
   "source": [
    "x = df_social_network.iloc[:, :-1]\n",
    "y = df_social_network.iloc[:, -1]"
   ]
  },
  {
   "source": [
    "## dataframe split into training and test set using Sklearn"
   ],
   "cell_type": "markdown",
   "metadata": {}
  },
  {
   "cell_type": "code",
   "execution_count": null,
   "metadata": {},
   "outputs": [],
   "source": [
    "from sklearn.model_selection import train_test_split\n",
    "\n",
    "x_test, y_test, x_train, y_train = train_test_split(x, y, test_size = 0.25, random_state = 0) \n"
   ]
  },
  {
   "source": [
    "## apply normalization\n",
    " using standar scaler from Sklearn\n",
    "\n",
    " ### fit_transform\n",
    "> Standardize features by removing the mean and scaling to unit variance. The standard score of a sample x is calculated as:\n",
    "> z = (x - u) / s\n",
    ">where u is the mean of the training samples or zero if with_mean = False, and s is the standard deviation of the training samples or one if with_std = False.\n",
    "\n",
    " "
   ],
   "cell_type": "markdown",
   "metadata": {}
  },
  {
   "cell_type": "code",
   "execution_count": null,
   "metadata": {},
   "outputs": [],
   "source": [
    "from sklearn.preprocessing import StandardScaler\n",
    "std_scaler = StandardScaler()\n",
    "\n",
    "\n",
    "x_train = std_scaler.fit_transform(x_train)\n",
    "x_test = std_scaler.transform(x_test)"
   ]
  }
 ]
}
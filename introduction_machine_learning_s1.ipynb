{
 "metadata": {
  "language_info": {
   "codemirror_mode": {
    "name": "ipython",
    "version": 3
   },
   "file_extension": ".py",
   "mimetype": "text/x-python",
   "name": "python",
   "nbconvert_exporter": "python",
   "pygments_lexer": "ipython3",
   "version": "3.8.5-final"
  },
  "orig_nbformat": 2,
  "kernelspec": {
   "name": "python3",
   "display_name": "Python 3"
  }
 },
 "nbformat": 4,
 "nbformat_minor": 2,
 "cells": [
  {
   "source": [
    "## import libraries"
   ],
   "cell_type": "markdown",
   "metadata": {}
  },
  {
   "cell_type": "code",
   "execution_count": null,
   "metadata": {},
   "outputs": [],
   "source": [
    "import numpy as np\n",
    "import pandas as pd\n",
    "import matplotlib.pyplot as plt"
   ]
  },
  {
   "source": [
    "# Supervised Learning: lineal Regression"
   ],
   "cell_type": "markdown",
   "metadata": {}
  },
  {
   "source": [
    "## import DataSet or DataSources"
   ],
   "cell_type": "markdown",
   "metadata": {}
  },
  {
   "cell_type": "code",
   "execution_count": null,
   "metadata": {},
   "outputs": [],
   "source": [
    "df_salary = pd.read_csv('./local_files/salary.csv')"
   ]
  },
  {
   "source": [
    "## Create varibles (Dependent and Independent)"
   ],
   "cell_type": "markdown",
   "metadata": {}
  },
  {
   "source": [
    "### using iloc and loc from pandas"
   ],
   "cell_type": "markdown",
   "metadata": {}
  },
  {
   "cell_type": "code",
   "execution_count": null,
   "metadata": {},
   "outputs": [],
   "source": [
    "# using function loc from pandas or function iloc\n",
    "# loc: gets items column from name ==> SINTAXIS: df.loc[<interval(index:index)>, ['nameColumn]]\n",
    "# iloc: get items column from index ==> SINTAXIS: df.loc[<interval(index:index)>, index:index]\n",
    "\n",
    "#example\n",
    "data_using_loc = df_salary.loc[:, ['YearsExperience']]\n",
    "data_using_iloc = df_salary.head().iloc[:, 1]\n",
    "data_using_loc"
   ]
  },
  {
   "source": [
    "## X, Y"
   ],
   "cell_type": "markdown",
   "metadata": {}
  },
  {
   "cell_type": "code",
   "execution_count": null,
   "metadata": {},
   "outputs": [],
   "source": [
    "#create variable dependent(y) and independet(x)\n",
    "\n",
    "x = df_salary.loc[:, ['YearsExperience']].values\n",
    "y = df_salary.iloc[:, -1].values\n",
    "y"
   ]
  },
  {
   "source": [
    "## dataframe split into training and test set using Sklearn"
   ],
   "cell_type": "markdown",
   "metadata": {}
  },
  {
   "source": [
    "### train_test_split\n",
    "allows testing and training"
   ],
   "cell_type": "markdown",
   "metadata": {}
  },
  {
   "cell_type": "code",
   "execution_count": null,
   "metadata": {},
   "outputs": [],
   "source": [
    "#import\n",
    "from sklearn.model_selection import train_test_split\n",
    "\n",
    "#we create a set of tests and trainings: NOTE: order variables is valid\n",
    "x_train, x_test, y_train, y_test = train_test_split(x, y, test_size = 0.2, random_state = 0)\n",
    "y_train"
   ]
  },
  {
   "source": [
    "## Training the linear regression model with your data set"
   ],
   "cell_type": "markdown",
   "metadata": {}
  },
  {
   "source": [
    "### import LinearRegression"
   ],
   "cell_type": "markdown",
   "metadata": {}
  },
  {
   "cell_type": "code",
   "execution_count": null,
   "metadata": {},
   "outputs": [],
   "source": [
    "from sklearn.linear_model import LinearRegression\n",
    "\n",
    "regressor = LinearRegression()\n",
    "regressor.fit(x_train, y_train)"
   ]
  },
  {
   "source": [
    "### Prediction of test results"
   ],
   "cell_type": "markdown",
   "metadata": {}
  },
  {
   "cell_type": "code",
   "execution_count": null,
   "metadata": {},
   "outputs": [],
   "source": [
    "y_pred = regressor.predict(x_test)\n"
   ]
  },
  {
   "cell_type": "code",
   "execution_count": null,
   "metadata": {},
   "outputs": [],
   "source": [
    "y_test"
   ]
  },
  {
   "source": [
    "## Training set display\n",
    "### using matplotlib.pyplot"
   ],
   "cell_type": "markdown",
   "metadata": {}
  },
  {
   "source": [
    "### show data from training"
   ],
   "cell_type": "markdown",
   "metadata": {}
  },
  {
   "cell_type": "code",
   "execution_count": null,
   "metadata": {},
   "outputs": [],
   "source": [
    "#plot the points from training x, y\n",
    "plt.scatter(x_train, y_train, color = 'red')\n",
    "\n",
    "#show lineal chart of the x= training and y=predict from x_train\n",
    "plt.plot(x_train, regressor.predict(x_train), color = 'blue')\n",
    "\n",
    "#add title chart\n",
    "plt.title('Salary vs Exprence(Training set)')\n",
    "\n",
    "#add varibles x and y\n",
    "plt.xlabel('Years Experience')\n",
    "plt.ylabel('Salary')\n",
    "plt.show()"
   ]
  },
  {
   "source": [
    "### show data from test"
   ],
   "cell_type": "markdown",
   "metadata": {}
  },
  {
   "cell_type": "code",
   "execution_count": null,
   "metadata": {},
   "outputs": [],
   "source": [
    "#plot the points from training x, y\n",
    "plt.scatter(x_test, y_test, color = 'red')\n",
    "\n",
    "#show lineal chart of the x= training and y=predict from x_train\n",
    "plt.plot(x_train, regressor.predict(x_train), color = 'blue')\n",
    "\n",
    "#add title chart\n",
    "plt.title('Salary vs Exprence(test set)')\n",
    "\n",
    "#add varibles x and y\n",
    "plt.xlabel('Years Experience')\n",
    "plt.ylabel('Salary')\n",
    "plt.show()"
   ]
  },
  {
   "cell_type": "code",
   "execution_count": null,
   "metadata": {},
   "outputs": [],
   "source": [
    "### find items base, medium and more salary\n",
    "\n",
    "#create array with values: 0, 5, 15 ==> year\n",
    "arr_year = np.array([[0], [5], [15]])\n",
    "\n",
    "#get predict from array year in the my regressor\n",
    "predict_salary_from_year = regressor.predict(arr_year)\n",
    "\n",
    "#flatten convert array 2D to 1D\n",
    "plt.bar(arr_year.flatten().tolist(), predict_salary_from_year.tolist())\n",
    "#add title chart\n",
    "plt.title('Salary vs Exprence(test set)')\n",
    "\n",
    "#add varibles x and y\n",
    "plt.xlabel('Years Experience')\n",
    "plt.ylabel('Salary')\n",
    "\n",
    "\n",
    "\n"
   ]
  },
  {
   "source": [
    "# Supervised Learning: Logistic Regression"
   ],
   "cell_type": "markdown",
   "metadata": {}
  },
  {
   "source": [
    "## import DataSet or DataSources"
   ],
   "cell_type": "markdown",
   "metadata": {}
  },
  {
   "cell_type": "code",
   "execution_count": null,
   "metadata": {},
   "outputs": [],
   "source": [
    "df_social_network = pd.read_csv('./local_files/social_network_ads.csv')"
   ]
  },
  {
   "source": [
    "## Create varibles (Dependent and Independent)"
   ],
   "cell_type": "markdown",
   "metadata": {}
  },
  {
   "cell_type": "code",
   "execution_count": null,
   "metadata": {},
   "outputs": [],
   "source": [
    "x = df_social_network.iloc[:, :-1]\n",
    "y = df_social_network.iloc[:, -1]"
   ]
  },
  {
   "source": [
    "## dataframe split into training and test set using Sklearn"
   ],
   "cell_type": "markdown",
   "metadata": {}
  },
  {
   "cell_type": "code",
   "execution_count": null,
   "metadata": {},
   "outputs": [],
   "source": [
    "from sklearn.model_selection import train_test_split\n",
    "\n",
    "x_train, x_test, y_train, y_test = train_test_split(x, y, test_size = 0.25, random_state = 0) "
   ]
  },
  {
   "source": [
    "## apply normalization\n",
    " using standar scaler from Sklearn\n",
    "\n",
    " ### fit_transform\n",
    "> Standardize features by removing the mean and scaling to unit variance. The standard score of a sample x is calculated as:\n",
    "> z = (x - u) / s\n",
    ">where u is the mean of the training samples or zero if with_mean = False, and s is the standard deviation of the training samples or one if with_std = False.\n",
    "\n",
    " "
   ],
   "cell_type": "markdown",
   "metadata": {}
  },
  {
   "cell_type": "code",
   "execution_count": null,
   "metadata": {},
   "outputs": [],
   "source": [
    "from sklearn.preprocessing import StandardScaler\n",
    "std_scaler = StandardScaler()\n",
    "\n",
    "#normalize X variable training and test\n",
    "x_train = std_scaler.fit_transform(x_train)\n",
    "x_test = std_scaler.transform(x_test)"
   ]
  },
  {
   "source": [
    "## Training model"
   ],
   "cell_type": "markdown",
   "metadata": {}
  },
  {
   "cell_type": "code",
   "execution_count": null,
   "metadata": {},
   "outputs": [],
   "source": [
    "from sklearn.linear_model import LogisticRegression\n",
    "\n",
    "#random_state keeps the same results\n",
    "logistic = LogisticRegression(random_state=0)\n",
    "logistic.fit(x_train, y_train)"
   ]
  },
  {
   "source": [
    "### predict new result"
   ],
   "cell_type": "markdown",
   "metadata": {}
  },
  {
   "cell_type": "code",
   "execution_count": null,
   "metadata": {},
   "outputs": [],
   "source": [
    "#predict person with 30 year and salary of 87,000\n",
    "predict_person = logistic.predict(std_scaler.transform([[30,87000]]))\n",
    "predict_person"
   ]
  },
  {
   "source": [
    "### predic with test data"
   ],
   "cell_type": "markdown",
   "metadata": {}
  },
  {
   "cell_type": "code",
   "execution_count": null,
   "metadata": {},
   "outputs": [],
   "source": [
    "predict_test_data = logistic.predict(x_test)"
   ]
  },
  {
   "source": [
    "### check accuracy\n",
    "using sklearn.metric and import accuracy_score"
   ],
   "cell_type": "markdown",
   "metadata": {}
  },
  {
   "cell_type": "code",
   "execution_count": null,
   "metadata": {},
   "outputs": [],
   "source": [
    "from sklearn.metrics import accuracy_score\n",
    "accuracy_score(y_test, predict_test_data)"
   ]
  },
  {
   "source": [
    "## visualize result of predict"
   ],
   "cell_type": "markdown",
   "metadata": {}
  },
  {
   "cell_type": "code",
   "execution_count": null,
   "metadata": {},
   "outputs": [],
   "source": [
    "#import color matplotlib\n",
    "from matplotlib.colors import ListedColormap\n",
    "\n",
    "x_set, y_set = std_scaler.inverse_transform(x_train), y_train\n",
    "x1, x2 = np.meshgrid(np.arange(start = x_set[:, 0].min() - 10, stop = x_set[:, 0].max() + 10, step = 0.25),\n",
    "            np.arange(start = x_set[:, 1].min() - 1000, stop = x_set[:, 1].max() + 1000, step = 0.25))\n",
    "\n",
    "plt.contourf(x1, x2, logistic.predict(std_scaler.transform(np.array([x1.ravel(), x2.ravel()]).T)).reshape(x1.shape),\n",
    "    alpha = 0.75, cmap = ListedColormap(('red', 'green')))\n",
    "\n",
    "plt.xlim(x1.min(), x1.max())\n",
    "plt.ylim(x2.min(), x2.max())\n",
    "\n",
    "for i, j in enumerate(np.unique(y_set)):\n",
    "   plt.scatter(x_set[y_set == j, 0],x_set[y_set == j, 1], c =ListedColormap(('red', 'green'))(i), label = j)\n",
    "\n",
    "plt.title('Logistic Regression (training set)')\n",
    "plt.xlabel('year')\n",
    "plt.ylabel('salary')\n",
    "plt.legend()\n",
    "plt.show()\n"
   ]
  },
  {
   "source": [
    "### visualize result of test"
   ],
   "cell_type": "markdown",
   "metadata": {}
  },
  {
   "cell_type": "code",
   "execution_count": null,
   "metadata": {},
   "outputs": [],
   "source": [
    "#import color matplotlib\n",
    "from matplotlib.colors import ListedColormap\n",
    "\n",
    "x_set, y_set = std_scaler.inverse_transform(x_test), y_test\n",
    "x1, x2 = np.meshgrid(np.arange(start = x_set[:, 0].min() - 10, stop = x_set[:, 0].max() + 10, step = 0.25),\n",
    "            np.arange(start = x_set[:, 1].min() - 1000, stop = x_set[:, 1].max() + 1000, step = 0.25))\n",
    "\n",
    "plt.contourf(x1, x2, logistic.predict(std_scaler.transform(np.array([x1.ravel(), x2.ravel()]).T)).reshape(x1.shape),\n",
    "    alpha = 0.75, cmap = ListedColormap(('red', 'green')))\n",
    "\n",
    "plt.xlim(x1.min(), x1.max())\n",
    "plt.ylim(x2.min(), x2.max())\n",
    "\n",
    "for i, j in enumerate(np.unique(y_set)):\n",
    "   plt.scatter(x_set[y_set == j, 0],x_set[y_set == j, 1], c =ListedColormap(('red', 'green'))(i), label = j)\n",
    "\n",
    "plt.title('Logistic Regression (training set)')\n",
    "plt.xlabel('year')\n",
    "plt.ylabel('salary')\n",
    "plt.legend()\n",
    "plt.show()"
   ]
  },
  {
   "cell_type": "code",
   "execution_count": null,
   "metadata": {},
   "outputs": [],
   "source": []
  }
 ]
}